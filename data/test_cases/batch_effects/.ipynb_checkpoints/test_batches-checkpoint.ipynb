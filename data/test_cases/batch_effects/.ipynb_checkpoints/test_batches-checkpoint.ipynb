{
 "cells": [
  {
   "cell_type": "code",
   "execution_count": 1,
   "metadata": {},
   "outputs": [
    {
     "name": "stderr",
     "output_type": "stream",
     "text": [
      "UsageError: Line magic function `%inline` not found.\n"
     ]
    }
   ],
   "source": [
    "%matplotlib inline \n",
    "import numpy as np\n",
    "import matplotlib.pyplot as plt\n",
    "# from make_batches import make_batches\n",
    "\n",
    "def make_batches(n_pts_per_cluster=5000):\n",
    "    data = []\n",
    "    labels = []\n",
    "\n",
    "    make = lambda x,y,s: np.concatenate([np.random.normal(x,s, (n_pts_per_cluster, 1)), np.random.normal(y,s, (n_pts_per_cluster, 1))], axis=1)\n",
    "    # batch 1\n",
    "    d = [make(0,0,.1), make(1,1,.1), make(0,1,.1)]\n",
    "    l = np.zeros(len(d)*n_pts_per_cluster)\n",
    "    d = np.concatenate(d, axis=0)\n",
    "\n",
    "    data.append(d)\n",
    "    labels.append(l)\n",
    "\n",
    "    # batch 2\n",
    "    d = [make(1,-1,.1), make(2,0,.1), make(-2,-1,.1)]\n",
    "    l = np.ones(len(d)*n_pts_per_cluster)\n",
    "    d = np.concatenate(d, axis=0)\n",
    "\n",
    "    data.append(d)\n",
    "    labels.append(l)\n",
    "\n",
    "\n",
    "    data = np.concatenate(data, axis=0)\n",
    "    labels = np.concatenate(labels, axis=0)\n",
    "\n",
    "    return data, labels"
   ]
  },
  {
   "cell_type": "code",
   "execution_count": null,
   "metadata": {},
   "outputs": [],
   "source": [
    "#from IPython.core.debugger import set_trace\n",
    "#set_trace() \n",
    "[data, labels] = make_batches()"
   ]
  },
  {
   "cell_type": "code",
   "execution_count": null,
   "metadata": {},
   "outputs": [],
   "source": []
  }
 ],
 "metadata": {
  "kernelspec": {
   "display_name": "Python 3",
   "language": "python",
   "name": "python3"
  },
  "language_info": {
   "codemirror_mode": {
    "name": "ipython",
    "version": 3
   },
   "file_extension": ".py",
   "mimetype": "text/x-python",
   "name": "python",
   "nbconvert_exporter": "python",
   "pygments_lexer": "ipython3",
   "version": "3.6.3"
  }
 },
 "nbformat": 4,
 "nbformat_minor": 2
}
